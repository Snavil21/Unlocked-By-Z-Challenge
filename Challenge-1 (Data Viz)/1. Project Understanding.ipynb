{
 "cells": [
  {
   "cell_type": "markdown",
   "source": [],
   "metadata": {
    "collapsed": false
   },
   "id": "4945d17808abf0f0"
  },
  {
   "cell_type": "markdown",
   "source": [
    "# Challenge 1\n",
    "## Data Viz Challenge (Unlocked by Z)\n",
    "\n",
    "Our characters have a collection of world's data from various countries affecting the global greenhouse effect and they want to understand the pattern that all the factors such as 'Energy Emissions', 'Land Coverage', 'Waste Disposal', 'Forest Fires', and 'Rising Carbon Footprint' have affected the world in a certain way. The task for this tutorial to visualize the data recorded across the world over the years and extrapolate some information to present to people."
   ],
   "metadata": {
    "collapsed": false
   },
   "id": "50bf6a7d1bcc997c"
  },
  {
   "cell_type": "code",
   "execution_count": 2,
   "id": "initial_id",
   "metadata": {
    "collapsed": true,
    "ExecuteTime": {
     "end_time": "2024-11-28T06:36:05.550859Z",
     "start_time": "2024-11-28T06:36:05.524480Z"
    }
   },
   "outputs": [],
   "source": [
    "import pandas as pd\n",
    "import numpy as np\n",
    "import matplotlib.pyplot as plt\n",
    "import seaborn as sns\n",
    "%matplotlib inline"
   ]
  },
  {
   "cell_type": "code",
   "outputs": [],
   "source": [
    "df_temp = pd.read_csv('Datasets/temperature_change_data_11-29-2021.csv')"
   ],
   "metadata": {
    "collapsed": false,
    "ExecuteTime": {
     "end_time": "2024-11-28T06:36:06.567506Z",
     "start_time": "2024-11-28T06:36:06.412549Z"
    }
   },
   "id": "2453f753cc7efe59",
   "execution_count": 3
  },
  {
   "cell_type": "code",
   "outputs": [
    {
     "data": {
      "text/plain": "  Domain Code              Domain Area Code (ISO3)         Area  Element Code  \\\n0          ET  Temperature change              AFG  Afghanistan          7271   \n1          ET  Temperature change              AFG  Afghanistan          7271   \n2          ET  Temperature change              AFG  Afghanistan          7271   \n3          ET  Temperature change              AFG  Afghanistan          7271   \n4          ET  Temperature change              AFG  Afghanistan          7271   \n5          ET  Temperature change              AFG  Afghanistan          7271   \n6          ET  Temperature change              AFG  Afghanistan          7271   \n7          ET  Temperature change              AFG  Afghanistan          7271   \n8          ET  Temperature change              AFG  Afghanistan          7271   \n9          ET  Temperature change              AFG  Afghanistan          7271   \n\n              Element  Months Code       Months  Year Code  Year Unit  Value  \\\n0  Temperature change         7016  Dec–Jan–Feb       1961  1961   °C -0.751   \n1  Temperature change         7016  Dec–Jan–Feb       1962  1962   °C  0.985   \n2  Temperature change         7016  Dec–Jan–Feb       1963  1963   °C  1.931   \n3  Temperature change         7016  Dec–Jan–Feb       1964  1964   °C -2.056   \n4  Temperature change         7016  Dec–Jan–Feb       1965  1965   °C -0.669   \n5  Temperature change         7016  Dec–Jan–Feb       1966  1966   °C  1.969   \n6  Temperature change         7016  Dec–Jan–Feb       1967  1967   °C -0.499   \n7  Temperature change         7016  Dec–Jan–Feb       1968  1968   °C -0.675   \n8  Temperature change         7016  Dec–Jan–Feb       1969  1969   °C -1.792   \n9  Temperature change         7016  Dec–Jan–Feb       1970  1970   °C  1.534   \n\n  Flag Flag Description  \n0   Fc  Calculated data  \n1   Fc  Calculated data  \n2   Fc  Calculated data  \n3   Fc  Calculated data  \n4   Fc  Calculated data  \n5   Fc  Calculated data  \n6   Fc  Calculated data  \n7   Fc  Calculated data  \n8   Fc  Calculated data  \n9   Fc  Calculated data  ",
      "text/html": "<div>\n<style scoped>\n    .dataframe tbody tr th:only-of-type {\n        vertical-align: middle;\n    }\n\n    .dataframe tbody tr th {\n        vertical-align: top;\n    }\n\n    .dataframe thead th {\n        text-align: right;\n    }\n</style>\n<table border=\"1\" class=\"dataframe\">\n  <thead>\n    <tr style=\"text-align: right;\">\n      <th></th>\n      <th>Domain Code</th>\n      <th>Domain</th>\n      <th>Area Code (ISO3)</th>\n      <th>Area</th>\n      <th>Element Code</th>\n      <th>Element</th>\n      <th>Months Code</th>\n      <th>Months</th>\n      <th>Year Code</th>\n      <th>Year</th>\n      <th>Unit</th>\n      <th>Value</th>\n      <th>Flag</th>\n      <th>Flag Description</th>\n    </tr>\n  </thead>\n  <tbody>\n    <tr>\n      <th>0</th>\n      <td>ET</td>\n      <td>Temperature change</td>\n      <td>AFG</td>\n      <td>Afghanistan</td>\n      <td>7271</td>\n      <td>Temperature change</td>\n      <td>7016</td>\n      <td>Dec–Jan–Feb</td>\n      <td>1961</td>\n      <td>1961</td>\n      <td>°C</td>\n      <td>-0.751</td>\n      <td>Fc</td>\n      <td>Calculated data</td>\n    </tr>\n    <tr>\n      <th>1</th>\n      <td>ET</td>\n      <td>Temperature change</td>\n      <td>AFG</td>\n      <td>Afghanistan</td>\n      <td>7271</td>\n      <td>Temperature change</td>\n      <td>7016</td>\n      <td>Dec–Jan–Feb</td>\n      <td>1962</td>\n      <td>1962</td>\n      <td>°C</td>\n      <td>0.985</td>\n      <td>Fc</td>\n      <td>Calculated data</td>\n    </tr>\n    <tr>\n      <th>2</th>\n      <td>ET</td>\n      <td>Temperature change</td>\n      <td>AFG</td>\n      <td>Afghanistan</td>\n      <td>7271</td>\n      <td>Temperature change</td>\n      <td>7016</td>\n      <td>Dec–Jan–Feb</td>\n      <td>1963</td>\n      <td>1963</td>\n      <td>°C</td>\n      <td>1.931</td>\n      <td>Fc</td>\n      <td>Calculated data</td>\n    </tr>\n    <tr>\n      <th>3</th>\n      <td>ET</td>\n      <td>Temperature change</td>\n      <td>AFG</td>\n      <td>Afghanistan</td>\n      <td>7271</td>\n      <td>Temperature change</td>\n      <td>7016</td>\n      <td>Dec–Jan–Feb</td>\n      <td>1964</td>\n      <td>1964</td>\n      <td>°C</td>\n      <td>-2.056</td>\n      <td>Fc</td>\n      <td>Calculated data</td>\n    </tr>\n    <tr>\n      <th>4</th>\n      <td>ET</td>\n      <td>Temperature change</td>\n      <td>AFG</td>\n      <td>Afghanistan</td>\n      <td>7271</td>\n      <td>Temperature change</td>\n      <td>7016</td>\n      <td>Dec–Jan–Feb</td>\n      <td>1965</td>\n      <td>1965</td>\n      <td>°C</td>\n      <td>-0.669</td>\n      <td>Fc</td>\n      <td>Calculated data</td>\n    </tr>\n    <tr>\n      <th>5</th>\n      <td>ET</td>\n      <td>Temperature change</td>\n      <td>AFG</td>\n      <td>Afghanistan</td>\n      <td>7271</td>\n      <td>Temperature change</td>\n      <td>7016</td>\n      <td>Dec–Jan–Feb</td>\n      <td>1966</td>\n      <td>1966</td>\n      <td>°C</td>\n      <td>1.969</td>\n      <td>Fc</td>\n      <td>Calculated data</td>\n    </tr>\n    <tr>\n      <th>6</th>\n      <td>ET</td>\n      <td>Temperature change</td>\n      <td>AFG</td>\n      <td>Afghanistan</td>\n      <td>7271</td>\n      <td>Temperature change</td>\n      <td>7016</td>\n      <td>Dec–Jan–Feb</td>\n      <td>1967</td>\n      <td>1967</td>\n      <td>°C</td>\n      <td>-0.499</td>\n      <td>Fc</td>\n      <td>Calculated data</td>\n    </tr>\n    <tr>\n      <th>7</th>\n      <td>ET</td>\n      <td>Temperature change</td>\n      <td>AFG</td>\n      <td>Afghanistan</td>\n      <td>7271</td>\n      <td>Temperature change</td>\n      <td>7016</td>\n      <td>Dec–Jan–Feb</td>\n      <td>1968</td>\n      <td>1968</td>\n      <td>°C</td>\n      <td>-0.675</td>\n      <td>Fc</td>\n      <td>Calculated data</td>\n    </tr>\n    <tr>\n      <th>8</th>\n      <td>ET</td>\n      <td>Temperature change</td>\n      <td>AFG</td>\n      <td>Afghanistan</td>\n      <td>7271</td>\n      <td>Temperature change</td>\n      <td>7016</td>\n      <td>Dec–Jan–Feb</td>\n      <td>1969</td>\n      <td>1969</td>\n      <td>°C</td>\n      <td>-1.792</td>\n      <td>Fc</td>\n      <td>Calculated data</td>\n    </tr>\n    <tr>\n      <th>9</th>\n      <td>ET</td>\n      <td>Temperature change</td>\n      <td>AFG</td>\n      <td>Afghanistan</td>\n      <td>7271</td>\n      <td>Temperature change</td>\n      <td>7016</td>\n      <td>Dec–Jan–Feb</td>\n      <td>1970</td>\n      <td>1970</td>\n      <td>°C</td>\n      <td>1.534</td>\n      <td>Fc</td>\n      <td>Calculated data</td>\n    </tr>\n  </tbody>\n</table>\n</div>"
     },
     "execution_count": 4,
     "metadata": {},
     "output_type": "execute_result"
    }
   ],
   "source": [
    "df_temp.head(10)"
   ],
   "metadata": {
    "collapsed": false,
    "ExecuteTime": {
     "end_time": "2024-11-28T06:36:07.354459Z",
     "start_time": "2024-11-28T06:36:07.340711Z"
    }
   },
   "id": "f9a9c78838f2817c",
   "execution_count": 4
  },
  {
   "cell_type": "code",
   "outputs": [
    {
     "data": {
      "text/plain": "       Element Code   Months Code     Year Code          Year         Value\ncount       67625.0  67625.000000  67625.000000  67625.000000  65331.000000\nmean         7271.0   7018.000000   1991.306248   1991.306248      0.491524\nstd             0.0      1.414224     17.333343     17.333343      0.820116\nmin          7271.0   7016.000000   1961.000000   1961.000000     -5.979000\n25%          7271.0   7017.000000   1976.000000   1976.000000     -0.011000\n50%          7271.0   7018.000000   1992.000000   1992.000000      0.410000\n75%          7271.0   7019.000000   2006.000000   2006.000000      0.932000\nmax          7271.0   7020.000000   2020.000000   2020.000000      8.206000",
      "text/html": "<div>\n<style scoped>\n    .dataframe tbody tr th:only-of-type {\n        vertical-align: middle;\n    }\n\n    .dataframe tbody tr th {\n        vertical-align: top;\n    }\n\n    .dataframe thead th {\n        text-align: right;\n    }\n</style>\n<table border=\"1\" class=\"dataframe\">\n  <thead>\n    <tr style=\"text-align: right;\">\n      <th></th>\n      <th>Element Code</th>\n      <th>Months Code</th>\n      <th>Year Code</th>\n      <th>Year</th>\n      <th>Value</th>\n    </tr>\n  </thead>\n  <tbody>\n    <tr>\n      <th>count</th>\n      <td>67625.0</td>\n      <td>67625.000000</td>\n      <td>67625.000000</td>\n      <td>67625.000000</td>\n      <td>65331.000000</td>\n    </tr>\n    <tr>\n      <th>mean</th>\n      <td>7271.0</td>\n      <td>7018.000000</td>\n      <td>1991.306248</td>\n      <td>1991.306248</td>\n      <td>0.491524</td>\n    </tr>\n    <tr>\n      <th>std</th>\n      <td>0.0</td>\n      <td>1.414224</td>\n      <td>17.333343</td>\n      <td>17.333343</td>\n      <td>0.820116</td>\n    </tr>\n    <tr>\n      <th>min</th>\n      <td>7271.0</td>\n      <td>7016.000000</td>\n      <td>1961.000000</td>\n      <td>1961.000000</td>\n      <td>-5.979000</td>\n    </tr>\n    <tr>\n      <th>25%</th>\n      <td>7271.0</td>\n      <td>7017.000000</td>\n      <td>1976.000000</td>\n      <td>1976.000000</td>\n      <td>-0.011000</td>\n    </tr>\n    <tr>\n      <th>50%</th>\n      <td>7271.0</td>\n      <td>7018.000000</td>\n      <td>1992.000000</td>\n      <td>1992.000000</td>\n      <td>0.410000</td>\n    </tr>\n    <tr>\n      <th>75%</th>\n      <td>7271.0</td>\n      <td>7019.000000</td>\n      <td>2006.000000</td>\n      <td>2006.000000</td>\n      <td>0.932000</td>\n    </tr>\n    <tr>\n      <th>max</th>\n      <td>7271.0</td>\n      <td>7020.000000</td>\n      <td>2020.000000</td>\n      <td>2020.000000</td>\n      <td>8.206000</td>\n    </tr>\n  </tbody>\n</table>\n</div>"
     },
     "execution_count": 5,
     "metadata": {},
     "output_type": "execute_result"
    }
   ],
   "source": [
    "df_temp.describe()"
   ],
   "metadata": {
    "collapsed": false,
    "ExecuteTime": {
     "end_time": "2024-11-28T06:36:08.344409Z",
     "start_time": "2024-11-28T06:36:08.324351Z"
    }
   },
   "id": "56d368f185ff42e7",
   "execution_count": 5
  },
  {
   "cell_type": "code",
   "outputs": [
    {
     "name": "stdout",
     "output_type": "stream",
     "text": [
      "<class 'pandas.core.frame.DataFrame'>\n",
      "RangeIndex: 67625 entries, 0 to 67624\n",
      "Data columns (total 14 columns):\n",
      " #   Column            Non-Null Count  Dtype  \n",
      "---  ------            --------------  -----  \n",
      " 0   Domain Code       67625 non-null  object \n",
      " 1   Domain            67625 non-null  object \n",
      " 2   Area Code (ISO3)  67625 non-null  object \n",
      " 3   Area              67625 non-null  object \n",
      " 4   Element Code      67625 non-null  int64  \n",
      " 5   Element           67625 non-null  object \n",
      " 6   Months Code       67625 non-null  int64  \n",
      " 7   Months            67625 non-null  object \n",
      " 8   Year Code         67625 non-null  int64  \n",
      " 9   Year              67625 non-null  int64  \n",
      " 10  Unit              67625 non-null  object \n",
      " 11  Value             65331 non-null  float64\n",
      " 12  Flag              67625 non-null  object \n",
      " 13  Flag Description  67625 non-null  object \n",
      "dtypes: float64(1), int64(4), object(9)\n",
      "memory usage: 7.2+ MB\n"
     ]
    }
   ],
   "source": [
    "df_temp.info()"
   ],
   "metadata": {
    "collapsed": false,
    "ExecuteTime": {
     "end_time": "2024-11-28T06:36:09.136952Z",
     "start_time": "2024-11-28T06:36:09.112125Z"
    }
   },
   "id": "4206ad4b53f64061",
   "execution_count": 6
  },
  {
   "cell_type": "code",
   "outputs": [
    {
     "data": {
      "text/plain": "array(['Afghanistan', 'Albania', 'Algeria', 'American Samoa', 'Andorra',\n       'Angola', 'Anguilla', 'Antarctica', 'Antigua and Barbuda',\n       'Argentina', 'Armenia', 'Aruba', 'Australia', 'Austria',\n       'Azerbaijan', 'Bahamas', 'Bahrain', 'Bangladesh', 'Barbados',\n       'Belarus', 'Belgium', 'Belgium-Luxembourg', 'Belize', 'Benin',\n       'Bhutan', 'Bolivia (Plurinational State of)',\n       'Bosnia and Herzegovina', 'Botswana', 'Brazil',\n       'British Virgin Islands', 'Brunei Darussalam', 'Bulgaria',\n       'Burkina Faso', 'Burundi', 'Cabo Verde', 'Cambodia', 'Cameroon',\n       'Canada', 'Cayman Islands', 'Central African Republic', 'Chad',\n       'Channel Islands', 'Chile', 'China', 'China, Hong Kong SAR',\n       'China, Macao SAR', 'China, mainland', 'China, Taiwan Province of',\n       'Christmas Island', 'Cocos (Keeling) Islands', 'Colombia',\n       'Comoros', 'Congo', 'Cook Islands', 'Costa Rica', \"Côte d'Ivoire\",\n       'Croatia', 'Cuba', 'Cyprus', 'Czechia', 'Czechoslovakia',\n       \"Democratic People's Republic of Korea\",\n       'Democratic Republic of the Congo', 'Denmark', 'Djibouti',\n       'Dominica', 'Dominican Republic', 'Ecuador', 'Egypt',\n       'El Salvador', 'Equatorial Guinea', 'Eritrea', 'Estonia',\n       'Eswatini', 'Ethiopia', 'Ethiopia PDR',\n       'Falkland Islands (Malvinas)', 'Faroe Islands', 'Fiji', 'Finland',\n       'France', 'French Guyana', 'French Polynesia',\n       'French Southern Territories', 'Gabon', 'Gambia', 'Georgia',\n       'Germany', 'Ghana', 'Gibraltar', 'Greece', 'Greenland', 'Grenada',\n       'Guadeloupe', 'Guatemala', 'Guinea', 'Guinea-Bissau', 'Guyana',\n       'Haiti', 'Holy See', 'Honduras', 'Hungary', 'Iceland', 'India',\n       'Indonesia', 'Iran (Islamic Republic of)', 'Iraq', 'Ireland',\n       'Isle of Man', 'Israel', 'Italy', 'Jamaica', 'Japan', 'Jordan',\n       'Kazakhstan', 'Kenya', 'Kiribati', 'Kuwait', 'Kyrgyzstan',\n       \"Lao People's Democratic Republic\", 'Latvia', 'Lebanon', 'Lesotho',\n       'Liberia', 'Libya', 'Liechtenstein', 'Lithuania', 'Luxembourg',\n       'Madagascar', 'Malawi', 'Malaysia', 'Maldives', 'Mali', 'Malta',\n       'Marshall Islands', 'Martinique', 'Mauritania', 'Mauritius',\n       'Mayotte', 'Mexico', 'Micronesia (Federated States of)',\n       'Midway Island', 'Monaco', 'Mongolia', 'Montenegro', 'Montserrat',\n       'Morocco', 'Mozambique', 'Myanmar', 'Namibia', 'Nauru', 'Nepal',\n       'Netherlands', 'Netherlands Antilles (former)', 'New Caledonia',\n       'New Zealand', 'Nicaragua', 'Niger', 'Nigeria', 'Niue',\n       'Norfolk Island', 'North Macedonia', 'Norway', 'Oman',\n       'Pacific Islands Trust Territory', 'Pakistan', 'Palau',\n       'Palestine', 'Panama', 'Papua New Guinea', 'Paraguay', 'Peru',\n       'Philippines', 'Pitcairn', 'Poland', 'Portugal', 'Puerto Rico',\n       'Qatar', 'Republic of Korea', 'Republic of Moldova', 'Réunion',\n       'Romania', 'Russian Federation', 'Rwanda',\n       'Saint Helena, Ascension and Tristan da Cunha',\n       'Saint Kitts and Nevis', 'Saint Lucia',\n       'Saint Pierre and Miquelon', 'Saint Vincent and the Grenadines',\n       'Samoa', 'San Marino', 'Sao Tome and Principe', 'Saudi Arabia',\n       'Senegal', 'Serbia', 'Serbia and Montenegro', 'Seychelles',\n       'Sierra Leone', 'Singapore', 'Slovakia', 'Slovenia',\n       'Solomon Islands', 'Somalia', 'South Africa',\n       'South Georgia and the South Sandwich Islands', 'South Sudan',\n       'Spain', 'Sri Lanka', 'Sudan', 'Sudan (former)', 'Suriname',\n       'Svalbard and Jan Mayen Islands', 'Sweden', 'Switzerland',\n       'Syrian Arab Republic', 'Tajikistan', 'Thailand', 'Timor-Leste',\n       'Togo', 'Tokelau', 'Tonga', 'Trinidad and Tobago', 'Tunisia',\n       'Turkey', 'Turkmenistan', 'Turks and Caicos Islands', 'Tuvalu',\n       'Uganda', 'Ukraine', 'United Arab Emirates',\n       'United Kingdom of Great Britain and Northern Ireland',\n       'United Republic of Tanzania', 'United States of America',\n       'United States Virgin Islands', 'Uruguay', 'USSR', 'Uzbekistan',\n       'Vanuatu', 'Venezuela (Bolivarian Republic of)', 'Viet Nam',\n       'Wake Island', 'Wallis and Futuna Islands', 'Western Sahara',\n       'Yemen', 'Yugoslav SFR', 'Zambia', 'Zimbabwe'], dtype=object)"
     },
     "execution_count": 7,
     "metadata": {},
     "output_type": "execute_result"
    }
   ],
   "source": [
    "df_temp['Area'].unique()"
   ],
   "metadata": {
    "collapsed": false,
    "ExecuteTime": {
     "end_time": "2024-11-28T06:36:09.855486Z",
     "start_time": "2024-11-28T06:36:09.848411Z"
    }
   },
   "id": "61168ca9b39f0b39",
   "execution_count": 7
  },
  {
   "cell_type": "code",
   "outputs": [
    {
     "data": {
      "text/plain": "Area\nAfghanistan              300\nNorfolk Island           300\nNamibia                  300\nNauru                    300\nNepal                    300\n                        ... \nMontenegro                75\nSerbia                    75\nSerbia and Montenegro     70\nSudan                     50\nSouth Sudan               50\nName: count, Length: 247, dtype: int64"
     },
     "execution_count": 8,
     "metadata": {},
     "output_type": "execute_result"
    }
   ],
   "source": [
    "df_temp['Area'].value_counts()"
   ],
   "metadata": {
    "collapsed": false,
    "ExecuteTime": {
     "end_time": "2024-11-28T06:36:10.668634Z",
     "start_time": "2024-11-28T06:36:10.660636Z"
    }
   },
   "id": "f933434277a5ff4a",
   "execution_count": 8
  },
  {
   "cell_type": "code",
   "outputs": [
    {
     "data": {
      "text/plain": "array([1961, 1962, 1963, 1964, 1965, 1966, 1967, 1968, 1969, 1970, 1971,\n       1972, 1973, 1974, 1975, 1976, 1977, 1978, 1979, 1980, 1981, 1982,\n       1983, 1984, 1985, 1986, 1987, 1988, 1989, 1990, 1991, 1992, 1993,\n       1994, 1995, 1996, 1997, 1998, 1999, 2000, 2001, 2002, 2003, 2004,\n       2005, 2006, 2007, 2008, 2009, 2010, 2011, 2012, 2013, 2014, 2015,\n       2016, 2017, 2018, 2019, 2020], dtype=int64)"
     },
     "execution_count": 9,
     "metadata": {},
     "output_type": "execute_result"
    }
   ],
   "source": [
    "df_temp['Year'].unique()"
   ],
   "metadata": {
    "collapsed": false,
    "ExecuteTime": {
     "end_time": "2024-11-28T06:36:11.393808Z",
     "start_time": "2024-11-28T06:36:11.389701Z"
    }
   },
   "id": "3faa629ae588bf32",
   "execution_count": 9
  },
  {
   "cell_type": "code",
   "outputs": [
    {
     "data": {
      "text/plain": "Year\n2011    1200\n2020    1195\n2019    1195\n2018    1195\n2017    1195\n2016    1195\n2015    1195\n2014    1195\n2013    1195\n2012    1195\n2008    1190\n2006    1190\n2007    1190\n2009    1190\n2010    1190\n2005    1185\n2004    1185\n2003    1185\n2002    1185\n2001    1185\n2000    1185\n1999    1180\n1998    1180\n1997    1180\n1996    1180\n1995    1180\n1994    1180\n1993    1180\n1992    1170\n1991    1080\n1962    1070\n1990    1070\n1963    1070\n1964    1070\n1965    1070\n1966    1070\n1967    1070\n1968    1070\n1969    1070\n1970    1070\n1971    1070\n1972    1070\n1973    1070\n1974    1070\n1975    1070\n1976    1070\n1977    1070\n1978    1070\n1979    1070\n1980    1070\n1981    1070\n1982    1070\n1983    1070\n1984    1070\n1985    1070\n1986    1070\n1987    1070\n1988    1070\n1989    1070\n1961    1070\nName: count, dtype: int64"
     },
     "execution_count": 10,
     "metadata": {},
     "output_type": "execute_result"
    }
   ],
   "source": [
    "df_temp['Year'].value_counts()"
   ],
   "metadata": {
    "collapsed": false,
    "ExecuteTime": {
     "end_time": "2024-11-28T06:36:12.025312Z",
     "start_time": "2024-11-28T06:36:12.018638Z"
    }
   },
   "id": "ca18bb2306f84d56",
   "execution_count": 10
  },
  {
   "cell_type": "code",
   "outputs": [
    {
     "data": {
      "text/plain": "array(['Dec–Jan–Feb', 'Mar–Apr–May', 'Jun–Jul–Aug', 'Sep–Oct–Nov',\n       'Meteorological year'], dtype=object)"
     },
     "execution_count": 11,
     "metadata": {},
     "output_type": "execute_result"
    }
   ],
   "source": [
    "df_temp['Months'].unique()"
   ],
   "metadata": {
    "collapsed": false,
    "ExecuteTime": {
     "end_time": "2024-11-28T06:36:17.767736Z",
     "start_time": "2024-11-28T06:36:17.760741Z"
    }
   },
   "id": "a73729877bb747ae",
   "execution_count": 11
  },
  {
   "cell_type": "code",
   "outputs": [
    {
     "data": {
      "text/plain": "Domain Code            0\nDomain                 0\nArea Code (ISO3)       0\nArea                   0\nElement Code           0\nElement                0\nMonths Code            0\nMonths                 0\nYear Code              0\nYear                   0\nUnit                   0\nValue               2294\nFlag                   0\nFlag Description       0\ndtype: int64"
     },
     "execution_count": 12,
     "metadata": {},
     "output_type": "execute_result"
    }
   ],
   "source": [
    "df_temp.isnull().sum()"
   ],
   "metadata": {
    "collapsed": false,
    "ExecuteTime": {
     "end_time": "2024-11-28T06:36:22.055064Z",
     "start_time": "2024-11-28T06:36:22.031741Z"
    }
   },
   "id": "ae0b26c9dadc9f6a",
   "execution_count": 12
  },
  {
   "cell_type": "code",
   "outputs": [
    {
     "data": {
      "text/plain": "3.392236598890943"
     },
     "execution_count": 15,
     "metadata": {},
     "output_type": "execute_result"
    }
   ],
   "source": [
    "null_value = (df_temp['Value'].isnull().sum().sum())/df_temp.shape[0]*100\n",
    "null_value"
   ],
   "metadata": {
    "collapsed": false,
    "ExecuteTime": {
     "end_time": "2024-11-28T06:37:21.480841Z",
     "start_time": "2024-11-28T06:37:21.475678Z"
    }
   },
   "id": "8fe1952de42bb608",
   "execution_count": 15
  }
 ],
 "metadata": {
  "kernelspec": {
   "display_name": "Python 3",
   "language": "python",
   "name": "python3"
  },
  "language_info": {
   "codemirror_mode": {
    "name": "ipython",
    "version": 2
   },
   "file_extension": ".py",
   "mimetype": "text/x-python",
   "name": "python",
   "nbconvert_exporter": "python",
   "pygments_lexer": "ipython2",
   "version": "2.7.6"
  }
 },
 "nbformat": 4,
 "nbformat_minor": 5
}
