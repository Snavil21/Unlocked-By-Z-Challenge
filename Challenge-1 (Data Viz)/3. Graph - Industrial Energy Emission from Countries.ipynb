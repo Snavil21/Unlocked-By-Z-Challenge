{
 "cells": [
  {
   "cell_type": "markdown",
   "metadata": {},
   "source": [
    "## Import Libraries"
   ]
  },
  {
   "cell_type": "code",
   "execution_count": 17,
   "metadata": {
    "ExecuteTime": {
     "end_time": "2024-11-27T08:22:54.340898Z",
     "start_time": "2024-11-27T08:22:54.335543Z"
    }
   },
   "outputs": [],
   "source": [
    "import pandas as pd\n",
    "import numpy as np\n",
    "import matplotlib.pyplot as plt\n",
    "import plotly.graph_objects as plo"
   ]
  },
  {
   "cell_type": "markdown",
   "metadata": {},
   "source": [
    "## Load & Explore Data"
   ]
  },
  {
   "cell_type": "code",
   "execution_count": 2,
   "metadata": {
    "ExecuteTime": {
     "end_time": "2024-11-27T07:46:00.417276Z",
     "start_time": "2024-11-27T07:45:58.739853Z"
    }
   },
   "outputs": [
    {
     "data": {
      "text/plain": "  Domain Code      Domain Area Code (ISO3)         Area  Element Code  \\\n0          GN  Energy Use              AFG  Afghanistan          7273   \n1          GN  Energy Use              AFG  Afghanistan          7273   \n2          GN  Energy Use              AFG  Afghanistan          7273   \n3          GN  Energy Use              AFG  Afghanistan          7273   \n4          GN  Energy Use              AFG  Afghanistan          7273   \n5          GN  Energy Use              AFG  Afghanistan          7273   \n6          GN  Energy Use              AFG  Afghanistan          7273   \n7          GN  Energy Use              AFG  Afghanistan          7273   \n8          GN  Energy Use              AFG  Afghanistan          7273   \n9          GN  Energy Use              AFG  Afghanistan          7273   \n\n           Element  Item Code            Item  Year Code  Year        Unit  \\\n0  Emissions (CO2)       6801  Gas-Diesel oil       1990  1990  kilotonnes   \n1  Emissions (CO2)       6801  Gas-Diesel oil       1991  1991  kilotonnes   \n2  Emissions (CO2)       6801  Gas-Diesel oil       1992  1992  kilotonnes   \n3  Emissions (CO2)       6801  Gas-Diesel oil       1993  1993  kilotonnes   \n4  Emissions (CO2)       6801  Gas-Diesel oil       1994  1994  kilotonnes   \n5  Emissions (CO2)       6801  Gas-Diesel oil       1995  1995  kilotonnes   \n6  Emissions (CO2)       6801  Gas-Diesel oil       1996  1996  kilotonnes   \n7  Emissions (CO2)       6801  Gas-Diesel oil       1997  1997  kilotonnes   \n8  Emissions (CO2)       6801  Gas-Diesel oil       1998  1998  kilotonnes   \n9  Emissions (CO2)       6801  Gas-Diesel oil       1999  1999  kilotonnes   \n\n      Value Flag Flag Description  \n0  231.4918    F     FAO estimate  \n1  188.5317    F     FAO estimate  \n2   47.9904    F     FAO estimate  \n3   38.6116    F     FAO estimate  \n4   31.4465    F     FAO estimate  \n5   28.7303    F     FAO estimate  \n6   26.1157    F     FAO estimate  \n7   22.6852    F     FAO estimate  \n8   21.3114    F     FAO estimate  \n9   19.8071    F     FAO estimate  ",
      "text/html": "<div>\n<style scoped>\n    .dataframe tbody tr th:only-of-type {\n        vertical-align: middle;\n    }\n\n    .dataframe tbody tr th {\n        vertical-align: top;\n    }\n\n    .dataframe thead th {\n        text-align: right;\n    }\n</style>\n<table border=\"1\" class=\"dataframe\">\n  <thead>\n    <tr style=\"text-align: right;\">\n      <th></th>\n      <th>Domain Code</th>\n      <th>Domain</th>\n      <th>Area Code (ISO3)</th>\n      <th>Area</th>\n      <th>Element Code</th>\n      <th>Element</th>\n      <th>Item Code</th>\n      <th>Item</th>\n      <th>Year Code</th>\n      <th>Year</th>\n      <th>Unit</th>\n      <th>Value</th>\n      <th>Flag</th>\n      <th>Flag Description</th>\n    </tr>\n  </thead>\n  <tbody>\n    <tr>\n      <th>0</th>\n      <td>GN</td>\n      <td>Energy Use</td>\n      <td>AFG</td>\n      <td>Afghanistan</td>\n      <td>7273</td>\n      <td>Emissions (CO2)</td>\n      <td>6801</td>\n      <td>Gas-Diesel oil</td>\n      <td>1990</td>\n      <td>1990</td>\n      <td>kilotonnes</td>\n      <td>231.4918</td>\n      <td>F</td>\n      <td>FAO estimate</td>\n    </tr>\n    <tr>\n      <th>1</th>\n      <td>GN</td>\n      <td>Energy Use</td>\n      <td>AFG</td>\n      <td>Afghanistan</td>\n      <td>7273</td>\n      <td>Emissions (CO2)</td>\n      <td>6801</td>\n      <td>Gas-Diesel oil</td>\n      <td>1991</td>\n      <td>1991</td>\n      <td>kilotonnes</td>\n      <td>188.5317</td>\n      <td>F</td>\n      <td>FAO estimate</td>\n    </tr>\n    <tr>\n      <th>2</th>\n      <td>GN</td>\n      <td>Energy Use</td>\n      <td>AFG</td>\n      <td>Afghanistan</td>\n      <td>7273</td>\n      <td>Emissions (CO2)</td>\n      <td>6801</td>\n      <td>Gas-Diesel oil</td>\n      <td>1992</td>\n      <td>1992</td>\n      <td>kilotonnes</td>\n      <td>47.9904</td>\n      <td>F</td>\n      <td>FAO estimate</td>\n    </tr>\n    <tr>\n      <th>3</th>\n      <td>GN</td>\n      <td>Energy Use</td>\n      <td>AFG</td>\n      <td>Afghanistan</td>\n      <td>7273</td>\n      <td>Emissions (CO2)</td>\n      <td>6801</td>\n      <td>Gas-Diesel oil</td>\n      <td>1993</td>\n      <td>1993</td>\n      <td>kilotonnes</td>\n      <td>38.6116</td>\n      <td>F</td>\n      <td>FAO estimate</td>\n    </tr>\n    <tr>\n      <th>4</th>\n      <td>GN</td>\n      <td>Energy Use</td>\n      <td>AFG</td>\n      <td>Afghanistan</td>\n      <td>7273</td>\n      <td>Emissions (CO2)</td>\n      <td>6801</td>\n      <td>Gas-Diesel oil</td>\n      <td>1994</td>\n      <td>1994</td>\n      <td>kilotonnes</td>\n      <td>31.4465</td>\n      <td>F</td>\n      <td>FAO estimate</td>\n    </tr>\n    <tr>\n      <th>5</th>\n      <td>GN</td>\n      <td>Energy Use</td>\n      <td>AFG</td>\n      <td>Afghanistan</td>\n      <td>7273</td>\n      <td>Emissions (CO2)</td>\n      <td>6801</td>\n      <td>Gas-Diesel oil</td>\n      <td>1995</td>\n      <td>1995</td>\n      <td>kilotonnes</td>\n      <td>28.7303</td>\n      <td>F</td>\n      <td>FAO estimate</td>\n    </tr>\n    <tr>\n      <th>6</th>\n      <td>GN</td>\n      <td>Energy Use</td>\n      <td>AFG</td>\n      <td>Afghanistan</td>\n      <td>7273</td>\n      <td>Emissions (CO2)</td>\n      <td>6801</td>\n      <td>Gas-Diesel oil</td>\n      <td>1996</td>\n      <td>1996</td>\n      <td>kilotonnes</td>\n      <td>26.1157</td>\n      <td>F</td>\n      <td>FAO estimate</td>\n    </tr>\n    <tr>\n      <th>7</th>\n      <td>GN</td>\n      <td>Energy Use</td>\n      <td>AFG</td>\n      <td>Afghanistan</td>\n      <td>7273</td>\n      <td>Emissions (CO2)</td>\n      <td>6801</td>\n      <td>Gas-Diesel oil</td>\n      <td>1997</td>\n      <td>1997</td>\n      <td>kilotonnes</td>\n      <td>22.6852</td>\n      <td>F</td>\n      <td>FAO estimate</td>\n    </tr>\n    <tr>\n      <th>8</th>\n      <td>GN</td>\n      <td>Energy Use</td>\n      <td>AFG</td>\n      <td>Afghanistan</td>\n      <td>7273</td>\n      <td>Emissions (CO2)</td>\n      <td>6801</td>\n      <td>Gas-Diesel oil</td>\n      <td>1998</td>\n      <td>1998</td>\n      <td>kilotonnes</td>\n      <td>21.3114</td>\n      <td>F</td>\n      <td>FAO estimate</td>\n    </tr>\n    <tr>\n      <th>9</th>\n      <td>GN</td>\n      <td>Energy Use</td>\n      <td>AFG</td>\n      <td>Afghanistan</td>\n      <td>7273</td>\n      <td>Emissions (CO2)</td>\n      <td>6801</td>\n      <td>Gas-Diesel oil</td>\n      <td>1999</td>\n      <td>1999</td>\n      <td>kilotonnes</td>\n      <td>19.8071</td>\n      <td>F</td>\n      <td>FAO estimate</td>\n    </tr>\n  </tbody>\n</table>\n</div>"
     },
     "execution_count": 2,
     "metadata": {},
     "output_type": "execute_result"
    }
   ],
   "source": [
    "df_energy = pd.read_csv(\"Datasets/energy_use_data_11-29-2021.csv\")\n",
    "df_energy.head(10)"
   ]
  },
  {
   "cell_type": "code",
   "outputs": [
    {
     "data": {
      "text/plain": "       Element Code     Item Code     Year Code          Year          Value\ncount       46131.0  46131.000000  46131.000000  46131.000000   46131.000000\nmean         7273.0   6803.571720   1998.988814   1998.988814     863.132722\nstd             0.0      2.916637     13.111035     13.111035    5274.730687\nmin          7273.0   6800.000000   1970.000000   1970.000000       0.000000\n25%          7273.0   6801.000000   1990.000000   1990.000000       3.370750\n50%          7273.0   6804.000000   2000.000000   2000.000000      21.489900\n75%          7273.0   6805.000000   2010.000000   2010.000000     165.728900\nmax          7273.0   6809.000000   2019.000000   2019.000000  197674.559300",
      "text/html": "<div>\n<style scoped>\n    .dataframe tbody tr th:only-of-type {\n        vertical-align: middle;\n    }\n\n    .dataframe tbody tr th {\n        vertical-align: top;\n    }\n\n    .dataframe thead th {\n        text-align: right;\n    }\n</style>\n<table border=\"1\" class=\"dataframe\">\n  <thead>\n    <tr style=\"text-align: right;\">\n      <th></th>\n      <th>Element Code</th>\n      <th>Item Code</th>\n      <th>Year Code</th>\n      <th>Year</th>\n      <th>Value</th>\n    </tr>\n  </thead>\n  <tbody>\n    <tr>\n      <th>count</th>\n      <td>46131.0</td>\n      <td>46131.000000</td>\n      <td>46131.000000</td>\n      <td>46131.000000</td>\n      <td>46131.000000</td>\n    </tr>\n    <tr>\n      <th>mean</th>\n      <td>7273.0</td>\n      <td>6803.571720</td>\n      <td>1998.988814</td>\n      <td>1998.988814</td>\n      <td>863.132722</td>\n    </tr>\n    <tr>\n      <th>std</th>\n      <td>0.0</td>\n      <td>2.916637</td>\n      <td>13.111035</td>\n      <td>13.111035</td>\n      <td>5274.730687</td>\n    </tr>\n    <tr>\n      <th>min</th>\n      <td>7273.0</td>\n      <td>6800.000000</td>\n      <td>1970.000000</td>\n      <td>1970.000000</td>\n      <td>0.000000</td>\n    </tr>\n    <tr>\n      <th>25%</th>\n      <td>7273.0</td>\n      <td>6801.000000</td>\n      <td>1990.000000</td>\n      <td>1990.000000</td>\n      <td>3.370750</td>\n    </tr>\n    <tr>\n      <th>50%</th>\n      <td>7273.0</td>\n      <td>6804.000000</td>\n      <td>2000.000000</td>\n      <td>2000.000000</td>\n      <td>21.489900</td>\n    </tr>\n    <tr>\n      <th>75%</th>\n      <td>7273.0</td>\n      <td>6805.000000</td>\n      <td>2010.000000</td>\n      <td>2010.000000</td>\n      <td>165.728900</td>\n    </tr>\n    <tr>\n      <th>max</th>\n      <td>7273.0</td>\n      <td>6809.000000</td>\n      <td>2019.000000</td>\n      <td>2019.000000</td>\n      <td>197674.559300</td>\n    </tr>\n  </tbody>\n</table>\n</div>"
     },
     "execution_count": 3,
     "metadata": {},
     "output_type": "execute_result"
    }
   ],
   "source": [
    "df_energy.describe()"
   ],
   "metadata": {
    "collapsed": false,
    "ExecuteTime": {
     "end_time": "2024-11-27T07:46:13.368972Z",
     "start_time": "2024-11-27T07:46:13.344678Z"
    }
   },
   "execution_count": 3
  },
  {
   "cell_type": "code",
   "outputs": [
    {
     "name": "stdout",
     "output_type": "stream",
     "text": [
      "<class 'pandas.core.frame.DataFrame'>\n",
      "RangeIndex: 46131 entries, 0 to 46130\n",
      "Data columns (total 14 columns):\n",
      " #   Column            Non-Null Count  Dtype  \n",
      "---  ------            --------------  -----  \n",
      " 0   Domain Code       46131 non-null  object \n",
      " 1   Domain            46131 non-null  object \n",
      " 2   Area Code (ISO3)  46131 non-null  object \n",
      " 3   Area              46131 non-null  object \n",
      " 4   Element Code      46131 non-null  int64  \n",
      " 5   Element           46131 non-null  object \n",
      " 6   Item Code         46131 non-null  int64  \n",
      " 7   Item              46131 non-null  object \n",
      " 8   Year Code         46131 non-null  int64  \n",
      " 9   Year              46131 non-null  int64  \n",
      " 10  Unit              46131 non-null  object \n",
      " 11  Value             46131 non-null  float64\n",
      " 12  Flag              46131 non-null  object \n",
      " 13  Flag Description  46131 non-null  object \n",
      "dtypes: float64(1), int64(4), object(9)\n",
      "memory usage: 4.9+ MB\n"
     ]
    }
   ],
   "source": [
    "df_energy.info()"
   ],
   "metadata": {
    "collapsed": false,
    "ExecuteTime": {
     "end_time": "2024-11-27T07:47:35.622681Z",
     "start_time": "2024-11-27T07:47:35.596943Z"
    }
   },
   "execution_count": 5
  },
  {
   "cell_type": "code",
   "outputs": [
    {
     "data": {
      "text/plain": "(46131, 14)"
     },
     "execution_count": 6,
     "metadata": {},
     "output_type": "execute_result"
    }
   ],
   "source": [
    "df_energy.shape"
   ],
   "metadata": {
    "collapsed": false,
    "ExecuteTime": {
     "end_time": "2024-11-27T07:47:46.314872Z",
     "start_time": "2024-11-27T07:47:46.309188Z"
    }
   },
   "execution_count": 6
  },
  {
   "cell_type": "markdown",
   "source": [
    "## Analyze Data"
   ],
   "metadata": {
    "collapsed": false
   }
  },
  {
   "cell_type": "code",
   "execution_count": 4,
   "metadata": {
    "ExecuteTime": {
     "end_time": "2024-11-27T07:47:10.542345Z",
     "start_time": "2024-11-27T07:47:10.532651Z"
    }
   },
   "outputs": [
    {
     "data": {
      "text/plain": "Item\nMotor Gasoline                       8756\nGas-Diesel oil                       8160\nLiquefied petroleum gas (LPG)        7431\nFuel oil                             6418\nElectricity                          6061\nCoal                                 4304\nNatural gas (including LNG)          3787\nGas-diesel oils used in fisheries     747\nFuel oil used in fisheries            467\nName: count, dtype: int64"
     },
     "execution_count": 4,
     "metadata": {},
     "output_type": "execute_result"
    }
   ],
   "source": [
    "df_energy['Item'].value_counts()"
   ]
  },
  {
   "cell_type": "code",
   "outputs": [
    {
     "data": {
      "text/plain": "Area\nJapan                       407\nChile                       407\nChina                       396\nDenmark                     395\nNew Zealand                 392\n                           ... \nSudan                        32\nTurks and Caicos Islands     30\nLiechtenstein                30\nSouth Sudan                  24\nIsle of Man                  18\nName: count, Length: 229, dtype: int64"
     },
     "execution_count": 9,
     "metadata": {},
     "output_type": "execute_result"
    }
   ],
   "source": [
    "df_energy['Area'].value_counts()"
   ],
   "metadata": {
    "collapsed": false,
    "ExecuteTime": {
     "end_time": "2024-11-27T07:53:08.013435Z",
     "start_time": "2024-11-27T07:53:08.003045Z"
    }
   },
   "execution_count": 9
  },
  {
   "cell_type": "code",
   "outputs": [
    {
     "data": {
      "text/plain": "Area         Item                         \nAfghanistan  Electricity                      50\n             Motor Gasoline                   50\n             Coal                             30\n             Gas-Diesel oil                   30\n             Natural gas (including LNG)      30\n                                              ..\nZimbabwe     Gas-Diesel oil                   44\n             Liquefied petroleum gas (LPG)    44\n             Motor Gasoline                   44\n             Coal                             43\n             Fuel oil                         41\nName: count, Length: 1285, dtype: int64"
     },
     "execution_count": 10,
     "metadata": {},
     "output_type": "execute_result"
    }
   ],
   "source": [
    "df_energy.groupby('Area')['Item'].value_counts()"
   ],
   "metadata": {
    "collapsed": false,
    "ExecuteTime": {
     "end_time": "2024-11-27T07:55:42.691406Z",
     "start_time": "2024-11-27T07:55:42.673836Z"
    }
   },
   "execution_count": 10
  },
  {
   "cell_type": "code",
   "outputs": [
    {
     "data": {
      "text/plain": "0"
     },
     "execution_count": 8,
     "metadata": {},
     "output_type": "execute_result"
    }
   ],
   "source": [
    "df_energy.isnull().sum().sum()"
   ],
   "metadata": {
    "collapsed": false,
    "ExecuteTime": {
     "end_time": "2024-11-27T07:52:22.483358Z",
     "start_time": "2024-11-27T07:52:22.461807Z"
    }
   },
   "execution_count": 8
  },
  {
   "cell_type": "markdown",
   "metadata": {},
   "source": [
    "## Preparing Data"
   ]
  },
  {
   "cell_type": "code",
   "execution_count": 16,
   "metadata": {
    "ExecuteTime": {
     "end_time": "2024-11-27T08:02:31.807801Z",
     "start_time": "2024-11-27T08:02:31.788604Z"
    }
   },
   "outputs": [
    {
     "data": {
      "text/plain": "    Area                           Item      Value_x      Value_y      %\n0  China                           Coal   56612.4024  217671.2249  26.01\n1  China                    Electricity  105472.7129  217671.2249  48.46\n2  China                       Fuel oil      80.9078  217671.2249   0.04\n3  China                 Gas-Diesel oil   47328.8167  217671.2249  21.74\n4  China  Liquefied petroleum gas (LPG)     231.0721  217671.2249   0.11\n5  China                 Motor Gasoline    7648.5285  217671.2249   3.51\n6  China    Natural gas (including LNG)     296.7845  217671.2249   0.14",
      "text/html": "<div>\n<style scoped>\n    .dataframe tbody tr th:only-of-type {\n        vertical-align: middle;\n    }\n\n    .dataframe tbody tr th {\n        vertical-align: top;\n    }\n\n    .dataframe thead th {\n        text-align: right;\n    }\n</style>\n<table border=\"1\" class=\"dataframe\">\n  <thead>\n    <tr style=\"text-align: right;\">\n      <th></th>\n      <th>Area</th>\n      <th>Item</th>\n      <th>Value_x</th>\n      <th>Value_y</th>\n      <th>%</th>\n    </tr>\n  </thead>\n  <tbody>\n    <tr>\n      <th>0</th>\n      <td>China</td>\n      <td>Coal</td>\n      <td>56612.4024</td>\n      <td>217671.2249</td>\n      <td>26.01</td>\n    </tr>\n    <tr>\n      <th>1</th>\n      <td>China</td>\n      <td>Electricity</td>\n      <td>105472.7129</td>\n      <td>217671.2249</td>\n      <td>48.46</td>\n    </tr>\n    <tr>\n      <th>2</th>\n      <td>China</td>\n      <td>Fuel oil</td>\n      <td>80.9078</td>\n      <td>217671.2249</td>\n      <td>0.04</td>\n    </tr>\n    <tr>\n      <th>3</th>\n      <td>China</td>\n      <td>Gas-Diesel oil</td>\n      <td>47328.8167</td>\n      <td>217671.2249</td>\n      <td>21.74</td>\n    </tr>\n    <tr>\n      <th>4</th>\n      <td>China</td>\n      <td>Liquefied petroleum gas (LPG)</td>\n      <td>231.0721</td>\n      <td>217671.2249</td>\n      <td>0.11</td>\n    </tr>\n    <tr>\n      <th>5</th>\n      <td>China</td>\n      <td>Motor Gasoline</td>\n      <td>7648.5285</td>\n      <td>217671.2249</td>\n      <td>3.51</td>\n    </tr>\n    <tr>\n      <th>6</th>\n      <td>China</td>\n      <td>Natural gas (including LNG)</td>\n      <td>296.7845</td>\n      <td>217671.2249</td>\n      <td>0.14</td>\n    </tr>\n  </tbody>\n</table>\n</div>"
     },
     "execution_count": 16,
     "metadata": {},
     "output_type": "execute_result"
    }
   ],
   "source": [
    "country = [\"China\",\"Germany\", \"Japan\", \"United States of America\"]\n",
    "energy = df_energy[(df_energy[\"Area\"].isin(country)) & (df_energy[\"Year\"]==2019)].reset_index(drop=True)\n",
    "energy[\"Area\"] = energy[\"Area\"].replace(to_replace=[\"United States of America\"],value=[\"United States\"])\n",
    "energy = energy.groupby([\"Area\", \"Item\"])[\"Value\"].mean().reset_index()\n",
    "totals = energy.groupby(\"Area\")[\"Value\"].sum().reset_index()\n",
    "energy = pd.merge(energy, totals, on=\"Area\")\n",
    "energy[\"%\"] = (energy[\"Value_x\"] / energy[\"Value_y\"]*100).round(2)\n",
    "energy.head(7)"
   ]
  },
  {
   "cell_type": "markdown",
   "metadata": {},
   "source": [
    "## Data Visualization"
   ]
  },
  {
   "cell_type": "code",
   "execution_count": 48,
   "metadata": {
    "ExecuteTime": {
     "end_time": "2024-11-27T08:50:53.793814Z",
     "start_time": "2024-11-27T08:50:53.767859Z"
    }
   },
   "outputs": [
    {
     "data": {
      "application/vnd.plotly.v1+json": {
       "data": [
        {
         "hovertemplate": "Country: %{x}<br>Industry: %{y}<br>CO2 Emissions: %{marker.size:,}%<extra></extra>",
         "marker": {
          "color": [
           26.01,
           48.46,
           0.04,
           21.74,
           0.11,
           3.51,
           0.14,
           0.36,
           26.61,
           3.59,
           57.13,
           6.07,
           0.81,
           5.43,
           8.13,
           8.33,
           0.73,
           71.05,
           0.16,
           11.56,
           0.03,
           0.18,
           35.63,
           0.01,
           33.54,
           8.21,
           16.98,
           5.45
          ],
          "colorbar": {
           "title": {
            "text": "%CO2<br>Emissions"
           }
          },
          "colorscale": [
           [
            0.0,
            "rgb(0,0,131)"
           ],
           [
            0.2,
            "rgb(0,60,170)"
           ],
           [
            0.4,
            "rgb(5,255,255)"
           ],
           [
            0.6,
            "rgb(255,255,0)"
           ],
           [
            0.8,
            "rgb(250,0,0)"
           ],
           [
            1.0,
            "rgb(128,0,0)"
           ]
          ],
          "opacity": 0.7,
          "showscale": true,
          "size": [
           26.01,
           48.46,
           0.04,
           21.74,
           0.11,
           3.51,
           0.14,
           0.36,
           26.61,
           3.59,
           57.13,
           6.07,
           0.81,
           5.43,
           8.13,
           8.33,
           0.73,
           71.05,
           0.16,
           11.56,
           0.03,
           0.18,
           35.63,
           0.01,
           33.54,
           8.21,
           16.98,
           5.45
          ]
         },
         "mode": "markers",
         "x": [
          "China",
          "China",
          "China",
          "China",
          "China",
          "China",
          "China",
          "Germany",
          "Germany",
          "Germany",
          "Germany",
          "Germany",
          "Germany",
          "Germany",
          "Japan",
          "Japan",
          "Japan",
          "Japan",
          "Japan",
          "Japan",
          "Japan",
          "United States",
          "United States",
          "United States",
          "United States",
          "United States",
          "United States",
          "United States"
         ],
         "y": [
          "Coal",
          "Electricity",
          "Fuel oil",
          "Gas-Diesel oil",
          "Liquefied petroleum gas (LPG)",
          "Motor Gasoline",
          "Natural gas (including LNG)",
          "Coal",
          "Electricity",
          "Fuel oil",
          "Gas-Diesel oil",
          "Liquefied petroleum gas (LPG)",
          "Motor Gasoline",
          "Natural gas (including LNG)",
          "Coal",
          "Electricity",
          "Fuel oil",
          "Gas-Diesel oil",
          "Liquefied petroleum gas (LPG)",
          "Motor Gasoline",
          "Natural gas (including LNG)",
          "Coal",
          "Electricity",
          "Fuel oil",
          "Gas-Diesel oil",
          "Liquefied petroleum gas (LPG)",
          "Motor Gasoline",
          "Natural gas (including LNG)"
         ],
         "type": "scatter"
        }
       ],
       "layout": {
        "font": {
         "color": "white"
        },
        "height": 600,
        "paper_bgcolor": "dark grey",
        "plot_bgcolor": "dark grey",
        "showlegend": false,
        "title": {
         "text": "<b>CO2 Emissions in 2019</b><br><sup>Per Top 4 Countries and Energy Industries</sup>",
         "x": 0.5,
         "xanchor": "center"
        },
        "width": 880,
        "template": {
         "data": {
          "histogram2dcontour": [
           {
            "type": "histogram2dcontour",
            "colorbar": {
             "outlinewidth": 0,
             "ticks": ""
            },
            "colorscale": [
             [
              0.0,
              "#0d0887"
             ],
             [
              0.1111111111111111,
              "#46039f"
             ],
             [
              0.2222222222222222,
              "#7201a8"
             ],
             [
              0.3333333333333333,
              "#9c179e"
             ],
             [
              0.4444444444444444,
              "#bd3786"
             ],
             [
              0.5555555555555556,
              "#d8576b"
             ],
             [
              0.6666666666666666,
              "#ed7953"
             ],
             [
              0.7777777777777778,
              "#fb9f3a"
             ],
             [
              0.8888888888888888,
              "#fdca26"
             ],
             [
              1.0,
              "#f0f921"
             ]
            ]
           }
          ],
          "choropleth": [
           {
            "type": "choropleth",
            "colorbar": {
             "outlinewidth": 0,
             "ticks": ""
            }
           }
          ],
          "histogram2d": [
           {
            "type": "histogram2d",
            "colorbar": {
             "outlinewidth": 0,
             "ticks": ""
            },
            "colorscale": [
             [
              0.0,
              "#0d0887"
             ],
             [
              0.1111111111111111,
              "#46039f"
             ],
             [
              0.2222222222222222,
              "#7201a8"
             ],
             [
              0.3333333333333333,
              "#9c179e"
             ],
             [
              0.4444444444444444,
              "#bd3786"
             ],
             [
              0.5555555555555556,
              "#d8576b"
             ],
             [
              0.6666666666666666,
              "#ed7953"
             ],
             [
              0.7777777777777778,
              "#fb9f3a"
             ],
             [
              0.8888888888888888,
              "#fdca26"
             ],
             [
              1.0,
              "#f0f921"
             ]
            ]
           }
          ],
          "heatmap": [
           {
            "type": "heatmap",
            "colorbar": {
             "outlinewidth": 0,
             "ticks": ""
            },
            "colorscale": [
             [
              0.0,
              "#0d0887"
             ],
             [
              0.1111111111111111,
              "#46039f"
             ],
             [
              0.2222222222222222,
              "#7201a8"
             ],
             [
              0.3333333333333333,
              "#9c179e"
             ],
             [
              0.4444444444444444,
              "#bd3786"
             ],
             [
              0.5555555555555556,
              "#d8576b"
             ],
             [
              0.6666666666666666,
              "#ed7953"
             ],
             [
              0.7777777777777778,
              "#fb9f3a"
             ],
             [
              0.8888888888888888,
              "#fdca26"
             ],
             [
              1.0,
              "#f0f921"
             ]
            ]
           }
          ],
          "heatmapgl": [
           {
            "type": "heatmapgl",
            "colorbar": {
             "outlinewidth": 0,
             "ticks": ""
            },
            "colorscale": [
             [
              0.0,
              "#0d0887"
             ],
             [
              0.1111111111111111,
              "#46039f"
             ],
             [
              0.2222222222222222,
              "#7201a8"
             ],
             [
              0.3333333333333333,
              "#9c179e"
             ],
             [
              0.4444444444444444,
              "#bd3786"
             ],
             [
              0.5555555555555556,
              "#d8576b"
             ],
             [
              0.6666666666666666,
              "#ed7953"
             ],
             [
              0.7777777777777778,
              "#fb9f3a"
             ],
             [
              0.8888888888888888,
              "#fdca26"
             ],
             [
              1.0,
              "#f0f921"
             ]
            ]
           }
          ],
          "contourcarpet": [
           {
            "type": "contourcarpet",
            "colorbar": {
             "outlinewidth": 0,
             "ticks": ""
            }
           }
          ],
          "contour": [
           {
            "type": "contour",
            "colorbar": {
             "outlinewidth": 0,
             "ticks": ""
            },
            "colorscale": [
             [
              0.0,
              "#0d0887"
             ],
             [
              0.1111111111111111,
              "#46039f"
             ],
             [
              0.2222222222222222,
              "#7201a8"
             ],
             [
              0.3333333333333333,
              "#9c179e"
             ],
             [
              0.4444444444444444,
              "#bd3786"
             ],
             [
              0.5555555555555556,
              "#d8576b"
             ],
             [
              0.6666666666666666,
              "#ed7953"
             ],
             [
              0.7777777777777778,
              "#fb9f3a"
             ],
             [
              0.8888888888888888,
              "#fdca26"
             ],
             [
              1.0,
              "#f0f921"
             ]
            ]
           }
          ],
          "surface": [
           {
            "type": "surface",
            "colorbar": {
             "outlinewidth": 0,
             "ticks": ""
            },
            "colorscale": [
             [
              0.0,
              "#0d0887"
             ],
             [
              0.1111111111111111,
              "#46039f"
             ],
             [
              0.2222222222222222,
              "#7201a8"
             ],
             [
              0.3333333333333333,
              "#9c179e"
             ],
             [
              0.4444444444444444,
              "#bd3786"
             ],
             [
              0.5555555555555556,
              "#d8576b"
             ],
             [
              0.6666666666666666,
              "#ed7953"
             ],
             [
              0.7777777777777778,
              "#fb9f3a"
             ],
             [
              0.8888888888888888,
              "#fdca26"
             ],
             [
              1.0,
              "#f0f921"
             ]
            ]
           }
          ],
          "mesh3d": [
           {
            "type": "mesh3d",
            "colorbar": {
             "outlinewidth": 0,
             "ticks": ""
            }
           }
          ],
          "scatter": [
           {
            "marker": {
             "line": {
              "color": "#283442"
             }
            },
            "type": "scatter"
           }
          ],
          "parcoords": [
           {
            "type": "parcoords",
            "line": {
             "colorbar": {
              "outlinewidth": 0,
              "ticks": ""
             }
            }
           }
          ],
          "scatterpolargl": [
           {
            "type": "scatterpolargl",
            "marker": {
             "colorbar": {
              "outlinewidth": 0,
              "ticks": ""
             }
            }
           }
          ],
          "bar": [
           {
            "error_x": {
             "color": "#f2f5fa"
            },
            "error_y": {
             "color": "#f2f5fa"
            },
            "marker": {
             "line": {
              "color": "rgb(17,17,17)",
              "width": 0.5
             },
             "pattern": {
              "fillmode": "overlay",
              "size": 10,
              "solidity": 0.2
             }
            },
            "type": "bar"
           }
          ],
          "scattergeo": [
           {
            "type": "scattergeo",
            "marker": {
             "colorbar": {
              "outlinewidth": 0,
              "ticks": ""
             }
            }
           }
          ],
          "scatterpolar": [
           {
            "type": "scatterpolar",
            "marker": {
             "colorbar": {
              "outlinewidth": 0,
              "ticks": ""
             }
            }
           }
          ],
          "histogram": [
           {
            "marker": {
             "pattern": {
              "fillmode": "overlay",
              "size": 10,
              "solidity": 0.2
             }
            },
            "type": "histogram"
           }
          ],
          "scattergl": [
           {
            "marker": {
             "line": {
              "color": "#283442"
             }
            },
            "type": "scattergl"
           }
          ],
          "scatter3d": [
           {
            "type": "scatter3d",
            "line": {
             "colorbar": {
              "outlinewidth": 0,
              "ticks": ""
             }
            },
            "marker": {
             "colorbar": {
              "outlinewidth": 0,
              "ticks": ""
             }
            }
           }
          ],
          "scattermapbox": [
           {
            "type": "scattermapbox",
            "marker": {
             "colorbar": {
              "outlinewidth": 0,
              "ticks": ""
             }
            }
           }
          ],
          "scatterternary": [
           {
            "type": "scatterternary",
            "marker": {
             "colorbar": {
              "outlinewidth": 0,
              "ticks": ""
             }
            }
           }
          ],
          "scattercarpet": [
           {
            "type": "scattercarpet",
            "marker": {
             "colorbar": {
              "outlinewidth": 0,
              "ticks": ""
             }
            }
           }
          ],
          "carpet": [
           {
            "aaxis": {
             "endlinecolor": "#A2B1C6",
             "gridcolor": "#506784",
             "linecolor": "#506784",
             "minorgridcolor": "#506784",
             "startlinecolor": "#A2B1C6"
            },
            "baxis": {
             "endlinecolor": "#A2B1C6",
             "gridcolor": "#506784",
             "linecolor": "#506784",
             "minorgridcolor": "#506784",
             "startlinecolor": "#A2B1C6"
            },
            "type": "carpet"
           }
          ],
          "table": [
           {
            "cells": {
             "fill": {
              "color": "#506784"
             },
             "line": {
              "color": "rgb(17,17,17)"
             }
            },
            "header": {
             "fill": {
              "color": "#2a3f5f"
             },
             "line": {
              "color": "rgb(17,17,17)"
             }
            },
            "type": "table"
           }
          ],
          "barpolar": [
           {
            "marker": {
             "line": {
              "color": "rgb(17,17,17)",
              "width": 0.5
             },
             "pattern": {
              "fillmode": "overlay",
              "size": 10,
              "solidity": 0.2
             }
            },
            "type": "barpolar"
           }
          ],
          "pie": [
           {
            "automargin": true,
            "type": "pie"
           }
          ]
         },
         "layout": {
          "autotypenumbers": "strict",
          "colorway": [
           "#636efa",
           "#EF553B",
           "#00cc96",
           "#ab63fa",
           "#FFA15A",
           "#19d3f3",
           "#FF6692",
           "#B6E880",
           "#FF97FF",
           "#FECB52"
          ],
          "font": {
           "color": "#f2f5fa"
          },
          "hovermode": "closest",
          "hoverlabel": {
           "align": "left"
          },
          "paper_bgcolor": "rgb(17,17,17)",
          "plot_bgcolor": "rgb(17,17,17)",
          "polar": {
           "bgcolor": "rgb(17,17,17)",
           "angularaxis": {
            "gridcolor": "#506784",
            "linecolor": "#506784",
            "ticks": ""
           },
           "radialaxis": {
            "gridcolor": "#506784",
            "linecolor": "#506784",
            "ticks": ""
           }
          },
          "ternary": {
           "bgcolor": "rgb(17,17,17)",
           "aaxis": {
            "gridcolor": "#506784",
            "linecolor": "#506784",
            "ticks": ""
           },
           "baxis": {
            "gridcolor": "#506784",
            "linecolor": "#506784",
            "ticks": ""
           },
           "caxis": {
            "gridcolor": "#506784",
            "linecolor": "#506784",
            "ticks": ""
           }
          },
          "coloraxis": {
           "colorbar": {
            "outlinewidth": 0,
            "ticks": ""
           }
          },
          "colorscale": {
           "sequential": [
            [
             0.0,
             "#0d0887"
            ],
            [
             0.1111111111111111,
             "#46039f"
            ],
            [
             0.2222222222222222,
             "#7201a8"
            ],
            [
             0.3333333333333333,
             "#9c179e"
            ],
            [
             0.4444444444444444,
             "#bd3786"
            ],
            [
             0.5555555555555556,
             "#d8576b"
            ],
            [
             0.6666666666666666,
             "#ed7953"
            ],
            [
             0.7777777777777778,
             "#fb9f3a"
            ],
            [
             0.8888888888888888,
             "#fdca26"
            ],
            [
             1.0,
             "#f0f921"
            ]
           ],
           "sequentialminus": [
            [
             0.0,
             "#0d0887"
            ],
            [
             0.1111111111111111,
             "#46039f"
            ],
            [
             0.2222222222222222,
             "#7201a8"
            ],
            [
             0.3333333333333333,
             "#9c179e"
            ],
            [
             0.4444444444444444,
             "#bd3786"
            ],
            [
             0.5555555555555556,
             "#d8576b"
            ],
            [
             0.6666666666666666,
             "#ed7953"
            ],
            [
             0.7777777777777778,
             "#fb9f3a"
            ],
            [
             0.8888888888888888,
             "#fdca26"
            ],
            [
             1.0,
             "#f0f921"
            ]
           ],
           "diverging": [
            [
             0,
             "#8e0152"
            ],
            [
             0.1,
             "#c51b7d"
            ],
            [
             0.2,
             "#de77ae"
            ],
            [
             0.3,
             "#f1b6da"
            ],
            [
             0.4,
             "#fde0ef"
            ],
            [
             0.5,
             "#f7f7f7"
            ],
            [
             0.6,
             "#e6f5d0"
            ],
            [
             0.7,
             "#b8e186"
            ],
            [
             0.8,
             "#7fbc41"
            ],
            [
             0.9,
             "#4d9221"
            ],
            [
             1,
             "#276419"
            ]
           ]
          },
          "xaxis": {
           "gridcolor": "#283442",
           "linecolor": "#506784",
           "ticks": "",
           "title": {
            "standoff": 15
           },
           "zerolinecolor": "#283442",
           "automargin": true,
           "zerolinewidth": 2
          },
          "yaxis": {
           "gridcolor": "#283442",
           "linecolor": "#506784",
           "ticks": "",
           "title": {
            "standoff": 15
           },
           "zerolinecolor": "#283442",
           "automargin": true,
           "zerolinewidth": 2
          },
          "scene": {
           "xaxis": {
            "backgroundcolor": "rgb(17,17,17)",
            "gridcolor": "#506784",
            "linecolor": "#506784",
            "showbackground": true,
            "ticks": "",
            "zerolinecolor": "#C8D4E3",
            "gridwidth": 2
           },
           "yaxis": {
            "backgroundcolor": "rgb(17,17,17)",
            "gridcolor": "#506784",
            "linecolor": "#506784",
            "showbackground": true,
            "ticks": "",
            "zerolinecolor": "#C8D4E3",
            "gridwidth": 2
           },
           "zaxis": {
            "backgroundcolor": "rgb(17,17,17)",
            "gridcolor": "#506784",
            "linecolor": "#506784",
            "showbackground": true,
            "ticks": "",
            "zerolinecolor": "#C8D4E3",
            "gridwidth": 2
           }
          },
          "shapedefaults": {
           "line": {
            "color": "#f2f5fa"
           }
          },
          "annotationdefaults": {
           "arrowcolor": "#f2f5fa",
           "arrowhead": 0,
           "arrowwidth": 1
          },
          "geo": {
           "bgcolor": "rgb(17,17,17)",
           "landcolor": "rgb(17,17,17)",
           "subunitcolor": "#506784",
           "showland": true,
           "showlakes": true,
           "lakecolor": "rgb(17,17,17)"
          },
          "title": {
           "x": 0.05
          },
          "updatemenudefaults": {
           "bgcolor": "#506784",
           "borderwidth": 0
          },
          "sliderdefaults": {
           "bgcolor": "#C8D4E3",
           "borderwidth": 1,
           "bordercolor": "rgb(17,17,17)",
           "tickwidth": 0
          },
          "mapbox": {
           "style": "dark"
          }
         }
        },
        "xaxis": {
         "tickfont": {
          "size": 14,
          "color": "yellow"
         },
         "showline": true,
         "linewidth": 0.1,
         "linecolor": "#c9c4c3",
         "gridcolor": "#c9c4c3",
         "title": {
          "text": "Countries"
         },
         "showgrid": true,
         "tickangle": 0
        },
        "yaxis": {
         "tickfont": {
          "size": 14,
          "color": "yellow"
         },
         "showline": false,
         "linewidth": 0.1,
         "gridcolor": "#c9c4c3",
         "title": {
          "text": "Energies"
         },
         "showgrid": true
        }
       },
       "config": {
        "plotlyServerURL": "https://plot.ly"
       }
      },
      "text/html": "<div>                            <div id=\"a5b9f3e8-bcfc-4f23-aef8-91f67ab7b914\" class=\"plotly-graph-div\" style=\"height:600px; width:880px;\"></div>            <script type=\"text/javascript\">                require([\"plotly\"], function(Plotly) {                    window.PLOTLYENV=window.PLOTLYENV || {};                                    if (document.getElementById(\"a5b9f3e8-bcfc-4f23-aef8-91f67ab7b914\")) {                    Plotly.newPlot(                        \"a5b9f3e8-bcfc-4f23-aef8-91f67ab7b914\",                        [{\"hovertemplate\":\"Country: %{x}\\u003cbr\\u003eIndustry: %{y}\\u003cbr\\u003eCO2 Emissions: %{marker.size:,}%\\u003cextra\\u003e\\u003c\\u002fextra\\u003e\",\"marker\":{\"color\":[26.01,48.46,0.04,21.74,0.11,3.51,0.14,0.36,26.61,3.59,57.13,6.07,0.81,5.43,8.13,8.33,0.73,71.05,0.16,11.56,0.03,0.18,35.63,0.01,33.54,8.21,16.98,5.45],\"colorbar\":{\"title\":{\"text\":\"%CO2\\u003cbr\\u003eEmissions\"}},\"colorscale\":[[0.0,\"rgb(0,0,131)\"],[0.2,\"rgb(0,60,170)\"],[0.4,\"rgb(5,255,255)\"],[0.6,\"rgb(255,255,0)\"],[0.8,\"rgb(250,0,0)\"],[1.0,\"rgb(128,0,0)\"]],\"opacity\":0.7,\"showscale\":true,\"size\":[26.01,48.46,0.04,21.74,0.11,3.51,0.14,0.36,26.61,3.59,57.13,6.07,0.81,5.43,8.13,8.33,0.73,71.05,0.16,11.56,0.03,0.18,35.63,0.01,33.54,8.21,16.98,5.45]},\"mode\":\"markers\",\"x\":[\"China\",\"China\",\"China\",\"China\",\"China\",\"China\",\"China\",\"Germany\",\"Germany\",\"Germany\",\"Germany\",\"Germany\",\"Germany\",\"Germany\",\"Japan\",\"Japan\",\"Japan\",\"Japan\",\"Japan\",\"Japan\",\"Japan\",\"United States\",\"United States\",\"United States\",\"United States\",\"United States\",\"United States\",\"United States\"],\"y\":[\"Coal\",\"Electricity\",\"Fuel oil\",\"Gas-Diesel oil\",\"Liquefied petroleum gas (LPG)\",\"Motor Gasoline\",\"Natural gas (including LNG)\",\"Coal\",\"Electricity\",\"Fuel oil\",\"Gas-Diesel oil\",\"Liquefied petroleum gas (LPG)\",\"Motor Gasoline\",\"Natural gas (including LNG)\",\"Coal\",\"Electricity\",\"Fuel oil\",\"Gas-Diesel oil\",\"Liquefied petroleum gas (LPG)\",\"Motor Gasoline\",\"Natural gas (including LNG)\",\"Coal\",\"Electricity\",\"Fuel oil\",\"Gas-Diesel oil\",\"Liquefied petroleum gas (LPG)\",\"Motor Gasoline\",\"Natural gas (including LNG)\"],\"type\":\"scatter\"}],                        {\"font\":{\"color\":\"white\"},\"height\":600,\"paper_bgcolor\":\"dark grey\",\"plot_bgcolor\":\"dark grey\",\"showlegend\":false,\"title\":{\"text\":\"\\u003cb\\u003eCO2 Emissions in 2019\\u003c\\u002fb\\u003e\\u003cbr\\u003e\\u003csup\\u003ePer Top 4 Countries and Energy Industries\\u003c\\u002fsup\\u003e\",\"x\":0.5,\"xanchor\":\"center\"},\"width\":880,\"template\":{\"data\":{\"histogram2dcontour\":[{\"type\":\"histogram2dcontour\",\"colorbar\":{\"outlinewidth\":0,\"ticks\":\"\"},\"colorscale\":[[0.0,\"#0d0887\"],[0.1111111111111111,\"#46039f\"],[0.2222222222222222,\"#7201a8\"],[0.3333333333333333,\"#9c179e\"],[0.4444444444444444,\"#bd3786\"],[0.5555555555555556,\"#d8576b\"],[0.6666666666666666,\"#ed7953\"],[0.7777777777777778,\"#fb9f3a\"],[0.8888888888888888,\"#fdca26\"],[1.0,\"#f0f921\"]]}],\"choropleth\":[{\"type\":\"choropleth\",\"colorbar\":{\"outlinewidth\":0,\"ticks\":\"\"}}],\"histogram2d\":[{\"type\":\"histogram2d\",\"colorbar\":{\"outlinewidth\":0,\"ticks\":\"\"},\"colorscale\":[[0.0,\"#0d0887\"],[0.1111111111111111,\"#46039f\"],[0.2222222222222222,\"#7201a8\"],[0.3333333333333333,\"#9c179e\"],[0.4444444444444444,\"#bd3786\"],[0.5555555555555556,\"#d8576b\"],[0.6666666666666666,\"#ed7953\"],[0.7777777777777778,\"#fb9f3a\"],[0.8888888888888888,\"#fdca26\"],[1.0,\"#f0f921\"]]}],\"heatmap\":[{\"type\":\"heatmap\",\"colorbar\":{\"outlinewidth\":0,\"ticks\":\"\"},\"colorscale\":[[0.0,\"#0d0887\"],[0.1111111111111111,\"#46039f\"],[0.2222222222222222,\"#7201a8\"],[0.3333333333333333,\"#9c179e\"],[0.4444444444444444,\"#bd3786\"],[0.5555555555555556,\"#d8576b\"],[0.6666666666666666,\"#ed7953\"],[0.7777777777777778,\"#fb9f3a\"],[0.8888888888888888,\"#fdca26\"],[1.0,\"#f0f921\"]]}],\"heatmapgl\":[{\"type\":\"heatmapgl\",\"colorbar\":{\"outlinewidth\":0,\"ticks\":\"\"},\"colorscale\":[[0.0,\"#0d0887\"],[0.1111111111111111,\"#46039f\"],[0.2222222222222222,\"#7201a8\"],[0.3333333333333333,\"#9c179e\"],[0.4444444444444444,\"#bd3786\"],[0.5555555555555556,\"#d8576b\"],[0.6666666666666666,\"#ed7953\"],[0.7777777777777778,\"#fb9f3a\"],[0.8888888888888888,\"#fdca26\"],[1.0,\"#f0f921\"]]}],\"contourcarpet\":[{\"type\":\"contourcarpet\",\"colorbar\":{\"outlinewidth\":0,\"ticks\":\"\"}}],\"contour\":[{\"type\":\"contour\",\"colorbar\":{\"outlinewidth\":0,\"ticks\":\"\"},\"colorscale\":[[0.0,\"#0d0887\"],[0.1111111111111111,\"#46039f\"],[0.2222222222222222,\"#7201a8\"],[0.3333333333333333,\"#9c179e\"],[0.4444444444444444,\"#bd3786\"],[0.5555555555555556,\"#d8576b\"],[0.6666666666666666,\"#ed7953\"],[0.7777777777777778,\"#fb9f3a\"],[0.8888888888888888,\"#fdca26\"],[1.0,\"#f0f921\"]]}],\"surface\":[{\"type\":\"surface\",\"colorbar\":{\"outlinewidth\":0,\"ticks\":\"\"},\"colorscale\":[[0.0,\"#0d0887\"],[0.1111111111111111,\"#46039f\"],[0.2222222222222222,\"#7201a8\"],[0.3333333333333333,\"#9c179e\"],[0.4444444444444444,\"#bd3786\"],[0.5555555555555556,\"#d8576b\"],[0.6666666666666666,\"#ed7953\"],[0.7777777777777778,\"#fb9f3a\"],[0.8888888888888888,\"#fdca26\"],[1.0,\"#f0f921\"]]}],\"mesh3d\":[{\"type\":\"mesh3d\",\"colorbar\":{\"outlinewidth\":0,\"ticks\":\"\"}}],\"scatter\":[{\"marker\":{\"line\":{\"color\":\"#283442\"}},\"type\":\"scatter\"}],\"parcoords\":[{\"type\":\"parcoords\",\"line\":{\"colorbar\":{\"outlinewidth\":0,\"ticks\":\"\"}}}],\"scatterpolargl\":[{\"type\":\"scatterpolargl\",\"marker\":{\"colorbar\":{\"outlinewidth\":0,\"ticks\":\"\"}}}],\"bar\":[{\"error_x\":{\"color\":\"#f2f5fa\"},\"error_y\":{\"color\":\"#f2f5fa\"},\"marker\":{\"line\":{\"color\":\"rgb(17,17,17)\",\"width\":0.5},\"pattern\":{\"fillmode\":\"overlay\",\"size\":10,\"solidity\":0.2}},\"type\":\"bar\"}],\"scattergeo\":[{\"type\":\"scattergeo\",\"marker\":{\"colorbar\":{\"outlinewidth\":0,\"ticks\":\"\"}}}],\"scatterpolar\":[{\"type\":\"scatterpolar\",\"marker\":{\"colorbar\":{\"outlinewidth\":0,\"ticks\":\"\"}}}],\"histogram\":[{\"marker\":{\"pattern\":{\"fillmode\":\"overlay\",\"size\":10,\"solidity\":0.2}},\"type\":\"histogram\"}],\"scattergl\":[{\"marker\":{\"line\":{\"color\":\"#283442\"}},\"type\":\"scattergl\"}],\"scatter3d\":[{\"type\":\"scatter3d\",\"line\":{\"colorbar\":{\"outlinewidth\":0,\"ticks\":\"\"}},\"marker\":{\"colorbar\":{\"outlinewidth\":0,\"ticks\":\"\"}}}],\"scattermapbox\":[{\"type\":\"scattermapbox\",\"marker\":{\"colorbar\":{\"outlinewidth\":0,\"ticks\":\"\"}}}],\"scatterternary\":[{\"type\":\"scatterternary\",\"marker\":{\"colorbar\":{\"outlinewidth\":0,\"ticks\":\"\"}}}],\"scattercarpet\":[{\"type\":\"scattercarpet\",\"marker\":{\"colorbar\":{\"outlinewidth\":0,\"ticks\":\"\"}}}],\"carpet\":[{\"aaxis\":{\"endlinecolor\":\"#A2B1C6\",\"gridcolor\":\"#506784\",\"linecolor\":\"#506784\",\"minorgridcolor\":\"#506784\",\"startlinecolor\":\"#A2B1C6\"},\"baxis\":{\"endlinecolor\":\"#A2B1C6\",\"gridcolor\":\"#506784\",\"linecolor\":\"#506784\",\"minorgridcolor\":\"#506784\",\"startlinecolor\":\"#A2B1C6\"},\"type\":\"carpet\"}],\"table\":[{\"cells\":{\"fill\":{\"color\":\"#506784\"},\"line\":{\"color\":\"rgb(17,17,17)\"}},\"header\":{\"fill\":{\"color\":\"#2a3f5f\"},\"line\":{\"color\":\"rgb(17,17,17)\"}},\"type\":\"table\"}],\"barpolar\":[{\"marker\":{\"line\":{\"color\":\"rgb(17,17,17)\",\"width\":0.5},\"pattern\":{\"fillmode\":\"overlay\",\"size\":10,\"solidity\":0.2}},\"type\":\"barpolar\"}],\"pie\":[{\"automargin\":true,\"type\":\"pie\"}]},\"layout\":{\"autotypenumbers\":\"strict\",\"colorway\":[\"#636efa\",\"#EF553B\",\"#00cc96\",\"#ab63fa\",\"#FFA15A\",\"#19d3f3\",\"#FF6692\",\"#B6E880\",\"#FF97FF\",\"#FECB52\"],\"font\":{\"color\":\"#f2f5fa\"},\"hovermode\":\"closest\",\"hoverlabel\":{\"align\":\"left\"},\"paper_bgcolor\":\"rgb(17,17,17)\",\"plot_bgcolor\":\"rgb(17,17,17)\",\"polar\":{\"bgcolor\":\"rgb(17,17,17)\",\"angularaxis\":{\"gridcolor\":\"#506784\",\"linecolor\":\"#506784\",\"ticks\":\"\"},\"radialaxis\":{\"gridcolor\":\"#506784\",\"linecolor\":\"#506784\",\"ticks\":\"\"}},\"ternary\":{\"bgcolor\":\"rgb(17,17,17)\",\"aaxis\":{\"gridcolor\":\"#506784\",\"linecolor\":\"#506784\",\"ticks\":\"\"},\"baxis\":{\"gridcolor\":\"#506784\",\"linecolor\":\"#506784\",\"ticks\":\"\"},\"caxis\":{\"gridcolor\":\"#506784\",\"linecolor\":\"#506784\",\"ticks\":\"\"}},\"coloraxis\":{\"colorbar\":{\"outlinewidth\":0,\"ticks\":\"\"}},\"colorscale\":{\"sequential\":[[0.0,\"#0d0887\"],[0.1111111111111111,\"#46039f\"],[0.2222222222222222,\"#7201a8\"],[0.3333333333333333,\"#9c179e\"],[0.4444444444444444,\"#bd3786\"],[0.5555555555555556,\"#d8576b\"],[0.6666666666666666,\"#ed7953\"],[0.7777777777777778,\"#fb9f3a\"],[0.8888888888888888,\"#fdca26\"],[1.0,\"#f0f921\"]],\"sequentialminus\":[[0.0,\"#0d0887\"],[0.1111111111111111,\"#46039f\"],[0.2222222222222222,\"#7201a8\"],[0.3333333333333333,\"#9c179e\"],[0.4444444444444444,\"#bd3786\"],[0.5555555555555556,\"#d8576b\"],[0.6666666666666666,\"#ed7953\"],[0.7777777777777778,\"#fb9f3a\"],[0.8888888888888888,\"#fdca26\"],[1.0,\"#f0f921\"]],\"diverging\":[[0,\"#8e0152\"],[0.1,\"#c51b7d\"],[0.2,\"#de77ae\"],[0.3,\"#f1b6da\"],[0.4,\"#fde0ef\"],[0.5,\"#f7f7f7\"],[0.6,\"#e6f5d0\"],[0.7,\"#b8e186\"],[0.8,\"#7fbc41\"],[0.9,\"#4d9221\"],[1,\"#276419\"]]},\"xaxis\":{\"gridcolor\":\"#283442\",\"linecolor\":\"#506784\",\"ticks\":\"\",\"title\":{\"standoff\":15},\"zerolinecolor\":\"#283442\",\"automargin\":true,\"zerolinewidth\":2},\"yaxis\":{\"gridcolor\":\"#283442\",\"linecolor\":\"#506784\",\"ticks\":\"\",\"title\":{\"standoff\":15},\"zerolinecolor\":\"#283442\",\"automargin\":true,\"zerolinewidth\":2},\"scene\":{\"xaxis\":{\"backgroundcolor\":\"rgb(17,17,17)\",\"gridcolor\":\"#506784\",\"linecolor\":\"#506784\",\"showbackground\":true,\"ticks\":\"\",\"zerolinecolor\":\"#C8D4E3\",\"gridwidth\":2},\"yaxis\":{\"backgroundcolor\":\"rgb(17,17,17)\",\"gridcolor\":\"#506784\",\"linecolor\":\"#506784\",\"showbackground\":true,\"ticks\":\"\",\"zerolinecolor\":\"#C8D4E3\",\"gridwidth\":2},\"zaxis\":{\"backgroundcolor\":\"rgb(17,17,17)\",\"gridcolor\":\"#506784\",\"linecolor\":\"#506784\",\"showbackground\":true,\"ticks\":\"\",\"zerolinecolor\":\"#C8D4E3\",\"gridwidth\":2}},\"shapedefaults\":{\"line\":{\"color\":\"#f2f5fa\"}},\"annotationdefaults\":{\"arrowcolor\":\"#f2f5fa\",\"arrowhead\":0,\"arrowwidth\":1},\"geo\":{\"bgcolor\":\"rgb(17,17,17)\",\"landcolor\":\"rgb(17,17,17)\",\"subunitcolor\":\"#506784\",\"showland\":true,\"showlakes\":true,\"lakecolor\":\"rgb(17,17,17)\"},\"title\":{\"x\":0.05},\"updatemenudefaults\":{\"bgcolor\":\"#506784\",\"borderwidth\":0},\"sliderdefaults\":{\"bgcolor\":\"#C8D4E3\",\"borderwidth\":1,\"bordercolor\":\"rgb(17,17,17)\",\"tickwidth\":0},\"mapbox\":{\"style\":\"dark\"}}},\"xaxis\":{\"tickfont\":{\"size\":14,\"color\":\"yellow\"},\"showline\":true,\"linewidth\":0.1,\"linecolor\":\"#c9c4c3\",\"gridcolor\":\"#c9c4c3\",\"title\":{\"text\":\"Countries\"},\"showgrid\":true,\"tickangle\":0},\"yaxis\":{\"tickfont\":{\"size\":14,\"color\":\"yellow\"},\"showline\":false,\"linewidth\":0.1,\"gridcolor\":\"#c9c4c3\",\"title\":{\"text\":\"Energies\"},\"showgrid\":true}},                        {\"responsive\": true}                    ).then(function(){\n                            \nvar gd = document.getElementById('a5b9f3e8-bcfc-4f23-aef8-91f67ab7b914');\nvar x = new MutationObserver(function (mutations, observer) {{\n        var display = window.getComputedStyle(gd).display;\n        if (!display || display === 'none') {{\n            console.log([gd, 'removed!']);\n            Plotly.purge(gd);\n            observer.disconnect();\n        }}\n}});\n\n// Listen for the removal of the full notebook cells\nvar notebookContainer = gd.closest('#notebook-container');\nif (notebookContainer) {{\n    x.observe(notebookContainer, {childList: true});\n}}\n\n// Listen for the clearing of the current output cell\nvar outputEl = gd.closest('.output');\nif (outputEl) {{\n    x.observe(outputEl, {childList: true});\n}}\n\n                        })                };                });            </script>        </div>"
     },
     "metadata": {},
     "output_type": "display_data"
    }
   ],
   "source": [
    "title = \"<b>CO2 Emissions in 2019</b><br><sup>Per Top 4 Countries and Energy Industries</sup>\"\n",
    "layout = plo.Layout(width=880, height=600, plot_bgcolor=\"dark grey\", paper_bgcolor=\"dark grey\",showlegend = False, title = {'text' : title, 'x':0.5, 'xanchor': 'center'},font = {\"color\" : 'white'})\n",
    "fig =plo.Figure( layout = layout)\n",
    "fig.add_trace(plo.Scatter(x=energy[\"Area\"],y=energy[\"Item\"],mode='markers', \n",
    "    hovertemplate=\"Country: %{x}<br>\" + \"Industry: %{y}<br>\" +\n",
    "                  \"CO2 Emissions: %{marker.size:,}%\" + \"<extra></extra>\",\n",
    "    marker=dict(color=energy[\"%\"],size=energy[\"%\"],showscale=True,\n",
    "                colorbar=dict(title='%CO2<br>Emissions'),opacity=0.7,colorscale='Jet')))\n",
    "\n",
    "fig.update_xaxes(showline=True, linewidth=0.1, linecolor='#c9c4c3', gridcolor='#c9c4c3',\n",
    "                 tickfont=dict(size=14, color='yellow'),title=\"Countries\", showgrid=True, tickangle=0)\n",
    "fig.update_yaxes(showline=False, linewidth=0.1, gridcolor='#c9c4c3',\n",
    "                 tickfont=dict(size=14, color='yellow'),title=\"Energies\", showgrid=True)\n",
    "fig.show()"
   ]
  }
 ],
 "metadata": {
  "kernelspec": {
   "name": "python3",
   "language": "python",
   "display_name": "Python 3 (ipykernel)"
  },
  "language_info": {
   "codemirror_mode": {
    "name": "ipython",
    "version": 3
   },
   "file_extension": ".py",
   "mimetype": "text/x-python",
   "name": "python",
   "nbconvert_exporter": "python",
   "pygments_lexer": "ipython3",
   "version": "3.8.12"
  }
 },
 "nbformat": 4,
 "nbformat_minor": 4
}
